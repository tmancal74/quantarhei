{
 "cells": [
  {
   "cell_type": "markdown",
   "metadata": {},
   "source": [
    "# Quantarhei multilevel molecules and aggregates"
   ]
  },
  {
   "cell_type": "code",
   "execution_count": 1,
   "metadata": {},
   "outputs": [],
   "source": [
    "from quantarhei import Molecule\n",
    "from quantarhei import energy_units\n",
    "import numpy as np"
   ]
  },
  {
   "cell_type": "markdown",
   "metadata": {},
   "source": [
    "Molecule with single excited state per excitation band"
   ]
  },
  {
   "cell_type": "code",
   "execution_count": 2,
   "metadata": {},
   "outputs": [
    {
     "name": "stdout",
     "output_type": "stream",
     "text": [
      "Number of electronic bands: 3\n",
      "Number of electronic states: 3\n",
      "Number of electronic states per electronic band: [1 1 1]\n",
      "Correspondence of electronic states to electronic bands: [0 1 2]\n"
     ]
    }
   ],
   "source": [
    "# Molecule definition - single excited state per excitation band\n",
    "with energy_units(\"1/cm\"):\n",
    "    mol = Molecule(name=\"Carotenoid single ex.\",elenergies=[0,18900,34985])  # excitation energies in 1/cm\n",
    "    mol.set_dipole(0,1,[1.28 , 0.0, 0.0])  # 0->1 transition dipole in Debye\n",
    "    mol.set_dipole(1,2,[0.90 , 0.0, 0.0])  # 1->2 transition dipole in Debye\n",
    "    # for the rest of the transitions assume zero dipole moment\n",
    "    mol._position = np.array([0.0,0.0,0.0],dtype=\"f8\")   # center of the molecule in Angstroms\n",
    "    \n",
    "# print molecular information\n",
    "print(\"Number of electronic bands:\",mol.Nb.size)\n",
    "print(\"Number of electronic states:\",mol.nel)\n",
    "print(\"Number of electronic states per electronic band:\",mol.Nb)\n",
    "print(\"Correspondence of electronic states to electronic bands:\",mol.which_band)"
   ]
  },
  {
   "cell_type": "markdown",
   "metadata": {},
   "source": [
    "Molecule with multiple excited states per excitation band"
   ]
  },
  {
   "cell_type": "code",
   "execution_count": 3,
   "metadata": {},
   "outputs": [
    {
     "name": "stdout",
     "output_type": "stream",
     "text": [
      "Number of electronic bands: 3\n",
      "Number of electronic states: 5\n",
      "Number of electronic states per electronic band: [1 2 2]\n",
      "Correspondence of electronic states to electronic bands: [0 1 1 2 2]\n"
     ]
    }
   ],
   "source": [
    "# Molecule definition - multiple excited states per excitation band\n",
    "with energy_units(\"1/cm\"):\n",
    "    mol2 = Molecule(name=\"Carotenoid single ex.\",elenergies=[0,[17400,18900],[30060,34985]])  # excitation energies in 1/cm\n",
    "    mol2.set_dipole(0,1,[0.0, 0.03, 0.0])  # 0->1 transition dipole in Debye (S0->S1)\n",
    "    mol2.set_dipole(0,2,[1.28 , 0.0, 0.0]) # 0->2 transition dipole in Debye (S0->S2)\n",
    "    mol2.set_dipole(1,3,[0.0, 1.5, 0.0])   # 1->3 transition dipole in Debye (S1->Sn)\n",
    "    mol2.set_dipole(2,4,[0.90 , 0.0, 0.0]) # 1->2 transition dipole in Debye (S2->SN)\n",
    "    # for the rest of the transitions assume zero dipole moment\n",
    "    mol2._position = np.array([10.0,0.0,0.0],dtype=\"f8\")   # center of the molecule in Angstroms\n",
    "    \n",
    "# print molecular information\n",
    "print(\"Number of electronic bands:\",mol2.Nb.size)\n",
    "print(\"Number of electronic states:\",mol2.nel)\n",
    "print(\"Number of electronic states per electronic band:\",mol2.Nb)\n",
    "print(\"Correspondence of electronic states to electronic bands:\",mol2.which_band)"
   ]
  },
  {
   "cell_type": "markdown",
   "metadata": {},
   "source": [
    "Set up an aggregate"
   ]
  },
  {
   "cell_type": "code",
   "execution_count": 4,
   "metadata": {},
   "outputs": [],
   "source": [
    "from quantarhei import Aggregate\n",
    "\n",
    "# Define aggregate and add individual monomers\n",
    "aggreg = Aggregate()\n",
    "aggreg.add_Molecule(mol)\n",
    "aggreg.add_Molecule(mol2)\n",
    "mult = 2 # Maximum excitation band\n",
    "\n",
    "# Define dipole dipole coupling between monomers\n",
    "aggreg.set_coupling_by_dipole_dipole_vec(epsr=1.0)\n",
    "    \n",
    "# set interaction energy between two transitions\n",
    "#set_resonance_coupling_vec(self, i, j, coupling)\n",
    "#_set_coupling_vec(self,mon1,init1,fin1,mon2,init2,fin2,coupling)"
   ]
  },
  {
   "cell_type": "markdown",
   "metadata": {},
   "source": [
    "Print aggregate info even before build"
   ]
  },
  {
   "cell_type": "code",
   "execution_count": 5,
   "metadata": {},
   "outputs": [
    {
     "name": "stdout",
     "output_type": "stream",
     "text": [
      "Aggregate vibronic states and corresponding bands\n",
      "--------------------------------------------------\n",
      "0 elsign: (0, 0) vibsign: () elindex: 0 band: 0\n",
      "1 elsign: (1, 0) vibsign: () elindex: 1 band: 1\n",
      "2 elsign: (0, 1) vibsign: () elindex: 2 band: 1\n",
      "3 elsign: (0, 2) vibsign: () elindex: 5 band: 1\n",
      "4 elsign: (2, 0) vibsign: () elindex: 3 band: 2\n",
      "5 elsign: (1, 1) vibsign: () elindex: 4 band: 2\n",
      "6 elsign: (1, 2) vibsign: () elindex: 6 band: 2\n",
      "7 elsign: (0, 3) vibsign: () elindex: 7 band: 2\n",
      "8 elsign: (0, 4) vibsign: () elindex: 8 band: 2\n",
      "\n",
      "Aggregate interaction elements:\n",
      "--------------------------------------------------\n",
      "Inter. between mon. 1 trans. 0 -> 1 and mon. 2 trans. 0 -> 1 is 0.0 int units\n",
      "Inter. between mon. 1 trans. 0 -> 1 and mon. 2 trans. 0 -> 2 is -0.00310723271717 int units\n",
      "Inter. between mon. 1 trans. 0 -> 1 and mon. 2 trans. 0 -> 3 is 0.0 int units\n",
      "Inter. between mon. 1 trans. 0 -> 1 and mon. 2 trans. 0 -> 4 is 0.0 int units\n",
      "Inter. between mon. 1 trans. 0 -> 1 and mon. 2 trans. 1 -> 2 is 0.0 int units\n",
      "Inter. between mon. 1 trans. 0 -> 1 and mon. 2 trans. 1 -> 3 is 0.0 int units\n",
      "Inter. between mon. 1 trans. 0 -> 1 and mon. 2 trans. 1 -> 4 is 0.0 int units\n",
      "Inter. between mon. 1 trans. 0 -> 1 and mon. 2 trans. 2 -> 3 is 0.0 int units\n",
      "Inter. between mon. 1 trans. 0 -> 1 and mon. 2 trans. 2 -> 4 is -0.00218477300426 int units\n",
      "Inter. between mon. 1 trans. 0 -> 1 and mon. 2 trans. 3 -> 4 is 0.0 int units\n",
      "Inter. between mon. 1 trans. 0 -> 2 and mon. 2 trans. 0 -> 1 is 0.0 int units\n",
      "Inter. between mon. 1 trans. 0 -> 2 and mon. 2 trans. 0 -> 2 is 0.0 int units\n",
      "Inter. between mon. 1 trans. 0 -> 2 and mon. 2 trans. 0 -> 3 is 0.0 int units\n",
      "Inter. between mon. 1 trans. 0 -> 2 and mon. 2 trans. 0 -> 4 is 0.0 int units\n",
      "Inter. between mon. 1 trans. 0 -> 2 and mon. 2 trans. 1 -> 2 is 0.0 int units\n",
      "Inter. between mon. 1 trans. 0 -> 2 and mon. 2 trans. 1 -> 3 is 0.0 int units\n",
      "Inter. between mon. 1 trans. 0 -> 2 and mon. 2 trans. 1 -> 4 is 0.0 int units\n",
      "Inter. between mon. 1 trans. 0 -> 2 and mon. 2 trans. 2 -> 3 is 0.0 int units\n",
      "Inter. between mon. 1 trans. 0 -> 2 and mon. 2 trans. 2 -> 4 is 0.0 int units\n",
      "Inter. between mon. 1 trans. 0 -> 2 and mon. 2 trans. 3 -> 4 is 0.0 int units\n",
      "Inter. between mon. 1 trans. 1 -> 2 and mon. 2 trans. 0 -> 1 is 0.0 int units\n",
      "Inter. between mon. 1 trans. 1 -> 2 and mon. 2 trans. 0 -> 2 is -0.00218477300426 int units\n",
      "Inter. between mon. 1 trans. 1 -> 2 and mon. 2 trans. 0 -> 3 is 0.0 int units\n",
      "Inter. between mon. 1 trans. 1 -> 2 and mon. 2 trans. 0 -> 4 is 0.0 int units\n",
      "Inter. between mon. 1 trans. 1 -> 2 and mon. 2 trans. 1 -> 2 is 0.0 int units\n",
      "Inter. between mon. 1 trans. 1 -> 2 and mon. 2 trans. 1 -> 3 is 0.0 int units\n",
      "Inter. between mon. 1 trans. 1 -> 2 and mon. 2 trans. 1 -> 4 is 0.0 int units\n",
      "Inter. between mon. 1 trans. 1 -> 2 and mon. 2 trans. 2 -> 3 is 0.0 int units\n",
      "Inter. between mon. 1 trans. 1 -> 2 and mon. 2 trans. 2 -> 4 is -0.00153616851862 int units\n",
      "Inter. between mon. 1 trans. 1 -> 2 and mon. 2 trans. 3 -> 4 is 0.0 int units\n"
     ]
    }
   ],
   "source": [
    "# print vibronic states of the aggregate\n",
    "print(\"Aggregate vibronic states and corresponding bands\")\n",
    "print(\"--------------------------------------------------\")\n",
    "for a, s1 in aggreg.allstates(mult=mult):\n",
    "    print(a,\"elsign:\",s1.elstate.elsignature,\"vibsign:\",s1.vsig,\"elindex:\",s1.elstate.index,\"band:\",s1.elstate.band)\n",
    "\n",
    "\n",
    "# print interaction elements\n",
    "print(\"\\nAggregate interaction elements:\")\n",
    "print(\"--------------------------------------------------\")\n",
    "for n in range(len(aggreg.resonance_coupling_vec)):\n",
    "    coupling_element = aggreg._coupling2mol[n]\n",
    "    excit1 = coupling_element[0]\n",
    "    excit2 = coupling_element[1]\n",
    "    print(\"Inter. between mon.\",excit1[0]+1,\"trans.\",excit1[1],\"->\",excit1[2],\n",
    "          \"and mon.\",excit2[0]+1,\"trans.\",excit2[1],\"->\",excit2[2],\"is\",\n",
    "          aggreg.resonance_coupling_vec[n],\"int units\")"
   ]
  },
  {
   "cell_type": "markdown",
   "metadata": {},
   "source": [
    "Build aggregate"
   ]
  },
  {
   "cell_type": "code",
   "execution_count": 6,
   "metadata": {},
   "outputs": [
    {
     "name": "stdout",
     "output_type": "stream",
     "text": [
      "-0.00218477300426 -0.00218477300426\n"
     ]
    }
   ],
   "source": [
    "# Build aggregate\n",
    "aggreg.build(mult=mult,sbi_for_higher_ex=False)\n",
    "\n",
    "# Print interaction element\n",
    "print(aggreg.HH[6,4],aggreg.HH[6,8])"
   ]
  },
  {
   "cell_type": "markdown",
   "metadata": {},
   "source": [
    "## Vibronic aggregate"
   ]
  },
  {
   "cell_type": "code",
   "execution_count": 7,
   "metadata": {},
   "outputs": [
    {
     "name": "stdout",
     "output_type": "stream",
     "text": [
      "Number of electronic bands: 2\n",
      "Number of electronic states: 3\n",
      "Number of electronic states per electronic band: [1 2]\n",
      "Correspondence of electronic states to electronic bands: [0 1 1]\n"
     ]
    }
   ],
   "source": [
    "from quantarhei import Mode\n",
    "\n",
    "# Molecule definition - single excited state per excitation band\n",
    "with energy_units(\"1/cm\"):\n",
    "    mol = Molecule(name=\"Test molecule\",elenergies=[0,[17000,18000]])  # excitation energies in 1/cm\n",
    "    mol.set_dipole(0,1,[1.0 , 0.0, 0.0])  # 0->1 transition dipole in Debye\n",
    "    mol.set_dipole(0,2,[1.5 , 0.0, 0.0])  # 1->2 transition dipole in Debye\n",
    "    # for the rest of the transitions assume zero dipole moment\n",
    "    mol._position = np.array([0.0,0.0,0.0],dtype=\"f8\")   # center of the molecule in Angstroms\n",
    "    \n",
    "    # Add vibrational levels\n",
    "    vib_mode = Mode(frequency = 1500.0)  # Define normal mode frequency\n",
    "    mol.add_Mode(vib_mode)               # Add normal mode to the molecule\n",
    "    mol.modes[0].set_shift(2,1.0)        # Define shift of the ground state and excited state potential surface\n",
    "    mol.modes[0].set_shift(1,0.5)        # reorgE = frequency*(shift^2)/2  ( HuangRhys fac. = (shift**2)/2.0 )\n",
    "    \n",
    "# print molecular information\n",
    "print(\"Number of electronic bands:\",mol.Nb.size)\n",
    "print(\"Number of electronic states:\",mol.nel)\n",
    "print(\"Number of electronic states per electronic band:\",mol.Nb)\n",
    "print(\"Correspondence of electronic states to electronic bands:\",mol.which_band)"
   ]
  },
  {
   "cell_type": "markdown",
   "metadata": {},
   "source": [
    "Create copy of the first molecule and shift trasition energies"
   ]
  },
  {
   "cell_type": "code",
   "execution_count": 8,
   "metadata": {},
   "outputs": [
    {
     "name": "stdout",
     "output_type": "stream",
     "text": [
      "Old transition energies: [ 0.          3.20220766  3.39057282]\n",
      "New transition energies: [ 0.          3.2398807   3.40940934]\n",
      "Transition energies in 1/cm:\n",
      "Old transition energies: [     0.  17000.  18000.]\n",
      "New transition energies: [     0.  17200.  18100.]\n"
     ]
    }
   ],
   "source": [
    "from copy import deepcopy\n",
    "from quantarhei import convert\n",
    "\n",
    "mol2 = deepcopy(mol)\n",
    "# shift energi of the first state by +200cm-1 and the second by +100cm-1\n",
    "mol2._elenergies[1:] += convert(np.array([200.0,100.0]),\"1/cm\",\"int\") # energies stored in internal units\n",
    "# shift position of the second molecule\n",
    "mol._position = np.array([10.0,0.0,0.0],dtype=\"f8\")   # center of the molecule in Angstroms\n",
    "\n",
    "\n",
    "with energy_units(\"1/cm\"):\n",
    "    print(\"Old transition energies:\",mol.elenergies)  # Energies are not unit managed! - this should be changed in the future\n",
    "    print(\"New transition energies:\",mol2.elenergies) # Energies are not unit managed! - this should be changed in the future\n",
    "print(\"Transition energies in 1/cm:\")\n",
    "print(\"Old transition energies:\",convert(mol.elenergies,\"int\",\"1/cm\"))  \n",
    "print(\"New transition energies:\",convert(mol2.elenergies,\"int\",\"1/cm\")) \n",
    "    "
   ]
  },
  {
   "cell_type": "markdown",
   "metadata": {},
   "source": [
    "Create a vibronic aggregate with multilevel molecules"
   ]
  },
  {
   "cell_type": "code",
   "execution_count": 9,
   "metadata": {},
   "outputs": [],
   "source": [
    "# Define aggregate and add individual monomers\n",
    "aggreg = Aggregate()\n",
    "aggreg.add_Molecule(mol)\n",
    "aggreg.add_Molecule(mol2)\n",
    "mult = 2 # Maximum excitation band\n",
    "\n",
    "# Define dipole dipole coupling between monomers\n",
    "aggreg.set_coupling_by_dipole_dipole_vec(epsr=1.0)"
   ]
  },
  {
   "cell_type": "markdown",
   "metadata": {},
   "source": [
    "Print pre-build aggregate info"
   ]
  },
  {
   "cell_type": "code",
   "execution_count": 10,
   "metadata": {},
   "outputs": [
    {
     "name": "stdout",
     "output_type": "stream",
     "text": [
      "Aggregate vibronic states and corresponding bands\n",
      "--------------------------------------------------\n",
      "0 elsign: (0, 0) vibsign: (0, 0) elindex: 0 band: 0\n",
      "1 elsign: (0, 0) vibsign: (0, 1) elindex: 0 band: 0\n",
      "2 elsign: (0, 0) vibsign: (1, 0) elindex: 0 band: 0\n",
      "3 elsign: (0, 0) vibsign: (1, 1) elindex: 0 band: 0\n",
      "4 elsign: (1, 0) vibsign: (0, 0) elindex: 1 band: 1\n",
      "5 elsign: (1, 0) vibsign: (0, 1) elindex: 1 band: 1\n",
      "6 elsign: (1, 0) vibsign: (1, 0) elindex: 1 band: 1\n",
      "7 elsign: (1, 0) vibsign: (1, 1) elindex: 1 band: 1\n",
      "8 elsign: (0, 1) vibsign: (0, 0) elindex: 2 band: 1\n",
      "9 elsign: (0, 1) vibsign: (0, 1) elindex: 2 band: 1\n",
      "10 elsign: (0, 1) vibsign: (1, 0) elindex: 2 band: 1\n",
      "11 elsign: (0, 1) vibsign: (1, 1) elindex: 2 band: 1\n",
      "12 elsign: (2, 0) vibsign: (0, 0) elindex: 3 band: 1\n",
      "13 elsign: (2, 0) vibsign: (0, 1) elindex: 3 band: 1\n",
      "14 elsign: (2, 0) vibsign: (1, 0) elindex: 3 band: 1\n",
      "15 elsign: (2, 0) vibsign: (1, 1) elindex: 3 band: 1\n",
      "16 elsign: (0, 2) vibsign: (0, 0) elindex: 5 band: 1\n",
      "17 elsign: (0, 2) vibsign: (0, 1) elindex: 5 band: 1\n",
      "18 elsign: (0, 2) vibsign: (1, 0) elindex: 5 band: 1\n",
      "19 elsign: (0, 2) vibsign: (1, 1) elindex: 5 band: 1\n",
      "20 elsign: (1, 1) vibsign: (0, 0) elindex: 4 band: 2\n",
      "21 elsign: (1, 1) vibsign: (0, 1) elindex: 4 band: 2\n",
      "22 elsign: (1, 1) vibsign: (1, 0) elindex: 4 band: 2\n",
      "23 elsign: (1, 1) vibsign: (1, 1) elindex: 4 band: 2\n",
      "24 elsign: (2, 1) vibsign: (0, 0) elindex: 6 band: 2\n",
      "25 elsign: (2, 1) vibsign: (0, 1) elindex: 6 band: 2\n",
      "26 elsign: (2, 1) vibsign: (1, 0) elindex: 6 band: 2\n",
      "27 elsign: (2, 1) vibsign: (1, 1) elindex: 6 band: 2\n",
      "28 elsign: (1, 2) vibsign: (0, 0) elindex: 7 band: 2\n",
      "29 elsign: (1, 2) vibsign: (0, 1) elindex: 7 band: 2\n",
      "30 elsign: (1, 2) vibsign: (1, 0) elindex: 7 band: 2\n",
      "31 elsign: (1, 2) vibsign: (1, 1) elindex: 7 band: 2\n",
      "32 elsign: (2, 2) vibsign: (0, 0) elindex: 8 band: 2\n",
      "33 elsign: (2, 2) vibsign: (0, 1) elindex: 8 band: 2\n",
      "34 elsign: (2, 2) vibsign: (1, 0) elindex: 8 band: 2\n",
      "35 elsign: (2, 2) vibsign: (1, 1) elindex: 8 band: 2\n",
      "\n",
      "Aggregate interaction elements:\n",
      "--------------------------------------------------\n",
      "Inter. between mon. 1 trans. 0 -> 1 and mon. 2 trans. 0 -> 1 is -0.00189650434398 int units\n",
      "Inter. between mon. 1 trans. 0 -> 1 and mon. 2 trans. 0 -> 2 is -0.00284475651597 int units\n",
      "Inter. between mon. 1 trans. 0 -> 1 and mon. 2 trans. 1 -> 2 is 0.0 int units\n",
      "Inter. between mon. 1 trans. 0 -> 2 and mon. 2 trans. 0 -> 1 is -0.00284475651597 int units\n",
      "Inter. between mon. 1 trans. 0 -> 2 and mon. 2 trans. 0 -> 2 is -0.00426713477395 int units\n",
      "Inter. between mon. 1 trans. 0 -> 2 and mon. 2 trans. 1 -> 2 is 0.0 int units\n",
      "Inter. between mon. 1 trans. 1 -> 2 and mon. 2 trans. 0 -> 1 is 0.0 int units\n",
      "Inter. between mon. 1 trans. 1 -> 2 and mon. 2 trans. 0 -> 2 is 0.0 int units\n",
      "Inter. between mon. 1 trans. 1 -> 2 and mon. 2 trans. 1 -> 2 is 0.0 int units\n"
     ]
    }
   ],
   "source": [
    "# print vibronic states of the aggregate\n",
    "print(\"Aggregate vibronic states and corresponding bands\")\n",
    "print(\"--------------------------------------------------\")\n",
    "for a, s1 in aggreg.allstates(mult=mult):\n",
    "    print(a,\"elsign:\",s1.elstate.elsignature,\"vibsign:\",s1.vsig,\"elindex:\",s1.elstate.index,\"band:\",s1.elstate.band)\n",
    "\n",
    "\n",
    "# print interaction elements\n",
    "print(\"\\nAggregate interaction elements:\")\n",
    "print(\"--------------------------------------------------\")\n",
    "for n in range(len(aggreg.resonance_coupling_vec)):\n",
    "    coupling_element = aggreg._coupling2mol[n]\n",
    "    excit1 = coupling_element[0]\n",
    "    excit2 = coupling_element[1]\n",
    "    print(\"Inter. between mon.\",excit1[0]+1,\"trans.\",excit1[1],\"->\",excit1[2],\n",
    "          \"and mon.\",excit2[0]+1,\"trans.\",excit2[1],\"->\",excit2[2],\"is\",\n",
    "          aggreg.resonance_coupling_vec[n],\"int units\")"
   ]
  },
  {
   "cell_type": "markdown",
   "metadata": {},
   "source": [
    "Internal check of consistency for only single exited band"
   ]
  },
  {
   "cell_type": "code",
   "execution_count": 11,
   "metadata": {},
   "outputs": [
    {
     "name": "stdout",
     "output_type": "stream",
     "text": [
      "Aggregate vibronic states and corresponding bands\n",
      "--------------------------------------------------\n",
      "0 elsign: (0, 0) vibsign: (0, 0) elindex: 0 band: 0\n",
      "1 elsign: (0, 0) vibsign: (0, 1) elindex: 0 band: 0\n",
      "2 elsign: (0, 0) vibsign: (1, 0) elindex: 0 band: 0\n",
      "3 elsign: (0, 0) vibsign: (1, 1) elindex: 0 band: 0\n",
      "4 elsign: (1, 0) vibsign: (0, 0) elindex: 1 band: 1\n",
      "5 elsign: (1, 0) vibsign: (0, 1) elindex: 1 band: 1\n",
      "6 elsign: (1, 0) vibsign: (1, 0) elindex: 1 band: 1\n",
      "7 elsign: (1, 0) vibsign: (1, 1) elindex: 1 band: 1\n",
      "8 elsign: (0, 1) vibsign: (0, 0) elindex: 2 band: 1\n",
      "9 elsign: (0, 1) vibsign: (0, 1) elindex: 2 band: 1\n",
      "10 elsign: (0, 1) vibsign: (1, 0) elindex: 2 band: 1\n",
      "11 elsign: (0, 1) vibsign: (1, 1) elindex: 2 band: 1\n",
      "12 elsign: (2, 0) vibsign: (0, 0) elindex: 3 band: 1\n",
      "13 elsign: (2, 0) vibsign: (0, 1) elindex: 3 band: 1\n",
      "14 elsign: (2, 0) vibsign: (1, 0) elindex: 3 band: 1\n",
      "15 elsign: (2, 0) vibsign: (1, 1) elindex: 3 band: 1\n",
      "16 elsign: (0, 2) vibsign: (0, 0) elindex: 4 band: 1\n",
      "17 elsign: (0, 2) vibsign: (0, 1) elindex: 4 band: 1\n",
      "18 elsign: (0, 2) vibsign: (1, 0) elindex: 4 band: 1\n",
      "19 elsign: (0, 2) vibsign: (1, 1) elindex: 4 band: 1\n"
     ]
    }
   ],
   "source": [
    "# print vibronic states of the aggregate\n",
    "print(\"Aggregate vibronic states and corresponding bands\")\n",
    "print(\"--------------------------------------------------\")\n",
    "for a, s1 in aggreg.allstates(mult=1):\n",
    "    print(a,\"elsign:\",s1.elstate.elsignature,\"vibsign:\",s1.vsig,\"elindex:\",s1.elstate.index,\"band:\",s1.elstate.band)"
   ]
  },
  {
   "cell_type": "markdown",
   "metadata": {},
   "source": [
    "Build the aggregate"
   ]
  },
  {
   "cell_type": "code",
   "execution_count": 12,
   "metadata": {},
   "outputs": [],
   "source": [
    "# Build aggregate\n",
    "aggreg.build(mult=mult,sbi_for_higher_ex=True)"
   ]
  },
  {
   "cell_type": "code",
   "execution_count": 13,
   "metadata": {},
   "outputs": [
    {
     "name": "stdout",
     "output_type": "stream",
     "text": [
      "Interaction between selected vibronic states\n",
      "--------------------------------------------\n",
      "Interaction between 0_0->1_0 and 0_0->1_0\n",
      "el. coupling: -0.00189650434398 Franc-Condon factor: 0.882496902585  and hamiltonian element -0.0016736592093 True\n",
      "\n",
      "Interaction between 0_0->1_0 and 0_0->2_1\n",
      "el. coupling: -0.00284475651597 Franc-Condon factor: 0.51733037245  and hamiltonian element -0.00147167894794 True\n",
      "\n",
      "Interaction between ground (0, 0) vib. (0, 0) and douple excited state (1,1) vib. (0,0)\n",
      "el. coupling: -0.00189650434398 Franc-Condon factor: 0.550695314903  and hamiltonian element 0.0 False\n",
      "!!! Interaction between ground and double excited state so far not supported !!!\n"
     ]
    }
   ],
   "source": [
    "print(\"Interaction between selected vibronic states\")\n",
    "print(\"--------------------------------------------\")\n",
    "\n",
    "# interaction between (1, 0) vib. (0, 0) and (0, 1) vib. (0, 0)\n",
    "print(\"Interaction between 0_0->1_0 and 0_0->1_0\")\n",
    "el_coupl = aggreg.get_resonance_coupling_vec(0,0,1,1,0,1) # monomer 0 trans. 0->1 and monomer 1 transition 0->1\n",
    "print(\"el. coupling:\",el_coupl,\"Franc-Condon factor:\",\n",
    "      aggreg.FCf[4,8],\" and hamiltonian element\",aggreg.HH[4,8],\n",
    "      np.isclose(aggreg.HH[4,8],el_coupl*aggreg.FCf[4,8]))\n",
    "\n",
    "# interaction between (1, 0) vib. (0, 0) and (0, 2) vib. (0, 1)\n",
    "print(\"\\nInteraction between 0_0->1_0 and 0_0->2_1\")\n",
    "el_coupl = aggreg.get_resonance_coupling_vec(0,0,1,1,0,2) # monomer 0 trans. 0->1 and monomer 1 transition 0->2\n",
    "print(\"el. coupling:\",el_coupl,\"Franc-Condon factor:\",\n",
    "      aggreg.FCf[4,17],\" and hamiltonian element\",aggreg.HH[4,17],\n",
    "      np.isclose(aggreg.HH[4,17],el_coupl*aggreg.FCf[4,17]))\n",
    "\n",
    "\n",
    "# interaction between (0, 0) vib. (0, 0) and (1, 1) vib. (0, 0) \n",
    "print(\"\\nInteraction between ground (0, 0) vib. (0, 0) and douple excited state (1,1) vib. (0,0)\")\n",
    "el_coupl = aggreg.get_resonance_coupling_vec(0,0,1,1,0,1) # monomer 0 trans. 0->1 and monomer 1 transition 0->2\n",
    "print(\"el. coupling:\",el_coupl,\"Franc-Condon factor:\",\n",
    "      aggreg.FCf[0,17],\" and hamiltonian element\",aggreg.HH[0,20],\n",
    "      np.isclose(aggreg.HH[0,20],el_coupl*aggreg.FCf[0,20]))\n",
    "print(\"!!! Interaction between ground and double excited state so far not supported !!!\")\n",
    "\n",
    "# In this small aggregate there is no interaction between double excited states"
   ]
  },
  {
   "cell_type": "code",
   "execution_count": null,
   "metadata": {},
   "outputs": [],
   "source": []
  }
 ],
 "metadata": {
  "kernelspec": {
   "display_name": "Python 3",
   "language": "python",
   "name": "python3"
  },
  "language_info": {
   "codemirror_mode": {
    "name": "ipython",
    "version": 3
   },
   "file_extension": ".py",
   "mimetype": "text/x-python",
   "name": "python",
   "nbconvert_exporter": "python",
   "pygments_lexer": "ipython3",
   "version": "3.7.4"
  }
 },
 "nbformat": 4,
 "nbformat_minor": 2
}
